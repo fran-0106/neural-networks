{
  "cells": [
    {
      "cell_type": "markdown",
      "source": [],
      "metadata": {
        "id": "PCbady17LaLY"
      }
    },
    {
      "cell_type": "code",
      "execution_count": null,
      "metadata": {
        "id": "U2YbOYvKytMF"
      },
      "outputs": [],
      "source": [
        "from sklearn import datasets\n",
        "from sklearn.preprocessing import OneHotEncoder\n",
        "from sklearn.preprocessing import LabelEncoder\n",
        "from sklearn.preprocessing import StandardScaler\n",
        "from sklearn.linear_model import Perceptron\n",
        "from sklearn.model_selection import train_test_split\n",
        "from sklearn.metrics import accuracy_score\n",
        "from sklearn.metrics import confusion_matrix\n",
        "from sklearn.metrics import plot_confusion_matrix\n",
        "import numpy as np\n",
        "import pandas as pd\n",
        "import matplotlib.pyplot as plt\n",
        "import tensorflow as tf\n",
        "from tensorflow import keras\n",
        "from tensorflow.keras import layers\n",
        "import random as python_random"
      ]
    },
    {
      "cell_type": "markdown",
      "source": [
        "Classificação da base Cardiovascular Disease. Esta base contém resultados de exames\n",
        "de diversos pacientes. O problema de classificação associado a essa base é de\n",
        "identificar se o paciente, com base em seus exames possui ou não uma doença\n",
        "cardiovascular. A base está disponível no arquivo cardio.csv. Mais detalhes sobre a\n",
        "base estão disponíveis em:\n",
        "https://www.kaggle.com/datasets/sulianova/cardiovascular-disease-dataset\n",
        "Para esta atividade, vocês devem elaborar um problema de classificação com 85% da\n",
        "base para treinamento e 15% para teste e encontrar uma configuração de Redes\n",
        "Neurais que atinja uma acurácia média acima de 70%. Para realizar a média, vocês\n",
        "podem utilizar o resultado de 30 classificações, como fizemos nas atividades\n",
        "anteriores. Para esta atividade, vocês podem aproveitar o notebook\n",
        "redes-neurais-cardio.ipynb, disponibilizado na aula anterior."
      ],
      "metadata": {
        "id": "nqSrhQMZMKfx"
      }
    },
    {
      "cell_type": "code",
      "execution_count": null,
      "metadata": {
        "colab": {
          "base_uri": "https://localhost:8080/"
        },
        "id": "z7euJTBfGGvM",
        "outputId": "5032b554-09e6-4352-a883-465491249ea4"
      },
      "outputs": [
        {
          "output_type": "stream",
          "name": "stdout",
          "text": [
            "70000\n"
          ]
        }
      ],
      "source": [
        "original_data = pd.read_csv(\"https://raw.githubusercontent.com/GabrielMarques369/Tabelas/main/Cardio.csv\", sep=';')\n",
        "data = original_data.iloc[:, 1:]\n",
        "\n",
        "X = data.iloc[:, :-1]\n",
        "y = data.iloc[:, -1:]\n",
        "\n",
        "print(len(X))"
      ]
    },
    {
      "cell_type": "code",
      "execution_count": null,
      "metadata": {
        "colab": {
          "base_uri": "https://localhost:8080/"
        },
        "id": "mEuQsENAH3M_",
        "outputId": "09756de9-c5f4-448c-9d30-286d61c173c8"
      },
      "outputs": [
        {
          "output_type": "stream",
          "name": "stderr",
          "text": [
            "/usr/local/lib/python3.7/dist-packages/sklearn/base.py:451: UserWarning: X does not have valid feature names, but StandardScaler was fitted with feature names\n",
            "  \"X does not have valid feature names, but\"\n",
            "/usr/local/lib/python3.7/dist-packages/sklearn/base.py:451: UserWarning: X does not have valid feature names, but StandardScaler was fitted with feature names\n",
            "  \"X does not have valid feature names, but\"\n"
          ]
        }
      ],
      "source": [
        "\n",
        "X_train, X_test, y_train, y_test = train_test_split(X, y, test_size=0.15)\n",
        "\n",
        "sc = StandardScaler()\n",
        "sc.fit(X_train)\n",
        "\n",
        "X_train_scaled = sc.transform(X_train.values)\n",
        "X_test_scaled = sc.transform(X_test.values)\n"
      ]
    },
    {
      "cell_type": "code",
      "execution_count": null,
      "metadata": {
        "colab": {
          "base_uri": "https://localhost:8080/"
        },
        "id": "irmy7St9IKr1",
        "outputId": "0e8fe168-b2a2-4520-b269-58d392f711e1"
      },
      "outputs": [
        {
          "output_type": "stream",
          "name": "stdout",
          "text": [
            "Epoch 1/3\n",
            "465/465 [==============================] - 1s 1ms/step - loss: 47.4030 - accuracy: 0.4983\n",
            "Epoch 2/3\n",
            "465/465 [==============================] - 1s 1ms/step - loss: 0.7525 - accuracy: 0.5061\n",
            "Epoch 3/3\n",
            "465/465 [==============================] - 1s 1ms/step - loss: 0.7444 - accuracy: 0.5051\n",
            "Epoch 1/3\n",
            "465/465 [==============================] - 1s 1ms/step - loss: 0.7593 - accuracy: 0.5033\n",
            "Epoch 2/3\n",
            "465/465 [==============================] - 1s 1ms/step - loss: 0.7528 - accuracy: 0.5048\n",
            "Epoch 3/3\n",
            "465/465 [==============================] - 1s 1ms/step - loss: 0.7391 - accuracy: 0.5062\n",
            "Epoch 1/3\n",
            "465/465 [==============================] - 1s 1ms/step - loss: 0.7497 - accuracy: 0.5049\n",
            "Epoch 2/3\n",
            "465/465 [==============================] - 1s 1ms/step - loss: 0.7411 - accuracy: 0.5073\n",
            "Epoch 3/3\n",
            "465/465 [==============================] - 1s 1ms/step - loss: 0.7261 - accuracy: 0.5124\n",
            "Epoch 1/3\n",
            "465/465 [==============================] - 1s 1ms/step - loss: 0.7366 - accuracy: 0.5130\n",
            "Epoch 2/3\n",
            "465/465 [==============================] - 1s 1ms/step - loss: 0.7277 - accuracy: 0.5126\n",
            "Epoch 3/3\n",
            "465/465 [==============================] - 1s 1ms/step - loss: 0.7124 - accuracy: 0.5184\n",
            "Epoch 1/3\n",
            "465/465 [==============================] - 1s 2ms/step - loss: 0.7140 - accuracy: 0.5172\n",
            "Epoch 2/3\n",
            "465/465 [==============================] - 1s 1ms/step - loss: 0.7042 - accuracy: 0.5261\n",
            "Epoch 3/3\n",
            "465/465 [==============================] - 1s 1ms/step - loss: 0.6949 - accuracy: 0.5254\n",
            "Epoch 1/3\n",
            "465/465 [==============================] - 1s 1ms/step - loss: 0.6966 - accuracy: 0.5293\n",
            "Epoch 2/3\n",
            "465/465 [==============================] - 1s 1ms/step - loss: 0.6883 - accuracy: 0.5428\n",
            "Epoch 3/3\n",
            "465/465 [==============================] - 1s 2ms/step - loss: 0.6835 - accuracy: 0.5600\n",
            "Epoch 1/3\n",
            "465/465 [==============================] - 1s 1ms/step - loss: 0.6791 - accuracy: 0.5807\n",
            "Epoch 2/3\n",
            "465/465 [==============================] - 1s 1ms/step - loss: 0.6743 - accuracy: 0.5984\n",
            "Epoch 3/3\n",
            "465/465 [==============================] - 1s 1ms/step - loss: 0.6686 - accuracy: 0.6245\n",
            "Epoch 1/3\n",
            "465/465 [==============================] - 1s 1ms/step - loss: 0.6613 - accuracy: 0.6451\n",
            "Epoch 2/3\n",
            "465/465 [==============================] - 1s 1ms/step - loss: 0.6508 - accuracy: 0.6520\n",
            "Epoch 3/3\n",
            "465/465 [==============================] - 1s 1ms/step - loss: 0.6348 - accuracy: 0.6766\n",
            "Epoch 1/3\n",
            "465/465 [==============================] - 1s 1ms/step - loss: 0.6216 - accuracy: 0.6822\n",
            "Epoch 2/3\n",
            "465/465 [==============================] - 1s 1ms/step - loss: 0.6116 - accuracy: 0.6921\n",
            "Epoch 3/3\n",
            "465/465 [==============================] - 1s 1ms/step - loss: 0.6083 - accuracy: 0.6964\n",
            "Epoch 1/3\n",
            "465/465 [==============================] - 1s 2ms/step - loss: 0.6071 - accuracy: 0.6973\n",
            "Epoch 2/3\n",
            "465/465 [==============================] - 1s 1ms/step - loss: 0.6054 - accuracy: 0.6987\n",
            "Epoch 3/3\n",
            "465/465 [==============================] - 1s 1ms/step - loss: 0.6053 - accuracy: 0.7004\n",
            "Epoch 1/3\n",
            "465/465 [==============================] - 1s 1ms/step - loss: 0.6048 - accuracy: 0.7003\n",
            "Epoch 2/3\n",
            "465/465 [==============================] - 1s 2ms/step - loss: 0.6044 - accuracy: 0.7002\n",
            "Epoch 3/3\n",
            "465/465 [==============================] - 1s 2ms/step - loss: 0.6045 - accuracy: 0.7023\n",
            "Epoch 1/3\n",
            "465/465 [==============================] - 1s 1ms/step - loss: 0.6041 - accuracy: 0.7018\n",
            "Epoch 2/3\n",
            "465/465 [==============================] - 1s 1ms/step - loss: 0.6040 - accuracy: 0.7014\n",
            "Epoch 3/3\n",
            "465/465 [==============================] - 1s 1ms/step - loss: 0.6041 - accuracy: 0.7035\n",
            "Epoch 1/3\n",
            "465/465 [==============================] - 1s 1ms/step - loss: 0.6039 - accuracy: 0.7028\n",
            "Epoch 2/3\n",
            "465/465 [==============================] - 1s 1ms/step - loss: 0.6036 - accuracy: 0.7024\n",
            "Epoch 3/3\n",
            "465/465 [==============================] - 1s 1ms/step - loss: 0.6036 - accuracy: 0.7039\n",
            "Epoch 1/3\n",
            "465/465 [==============================] - 1s 2ms/step - loss: 0.6035 - accuracy: 0.7031\n",
            "Epoch 2/3\n",
            "465/465 [==============================] - 1s 2ms/step - loss: 0.6032 - accuracy: 0.7035\n",
            "Epoch 3/3\n",
            "465/465 [==============================] - 1s 1ms/step - loss: 0.6032 - accuracy: 0.7047\n",
            "Epoch 1/3\n",
            "465/465 [==============================] - 1s 1ms/step - loss: 0.6031 - accuracy: 0.7038\n",
            "Epoch 2/3\n",
            "465/465 [==============================] - 1s 1ms/step - loss: 0.6028 - accuracy: 0.7041\n",
            "Epoch 3/3\n",
            "465/465 [==============================] - 1s 1ms/step - loss: 0.6029 - accuracy: 0.7054\n",
            "Epoch 1/3\n",
            "465/465 [==============================] - 1s 1ms/step - loss: 0.6028 - accuracy: 0.7043\n",
            "Epoch 2/3\n",
            "465/465 [==============================] - 1s 1ms/step - loss: 0.6025 - accuracy: 0.7042\n",
            "Epoch 3/3\n",
            "465/465 [==============================] - 1s 2ms/step - loss: 0.6025 - accuracy: 0.7055\n",
            "Epoch 1/3\n",
            "465/465 [==============================] - 1s 2ms/step - loss: 0.6025 - accuracy: 0.7045\n",
            "Epoch 2/3\n",
            "465/465 [==============================] - 1s 2ms/step - loss: 0.6022 - accuracy: 0.7047\n",
            "Epoch 3/3\n",
            "465/465 [==============================] - 1s 1ms/step - loss: 0.6022 - accuracy: 0.7058\n",
            "Epoch 1/3\n",
            "465/465 [==============================] - 1s 1ms/step - loss: 0.6021 - accuracy: 0.7053\n",
            "Epoch 2/3\n",
            "465/465 [==============================] - 1s 1ms/step - loss: 0.6020 - accuracy: 0.7051\n",
            "Epoch 3/3\n",
            "465/465 [==============================] - 1s 1ms/step - loss: 0.6018 - accuracy: 0.7066\n",
            "Epoch 1/3\n",
            "465/465 [==============================] - 1s 1ms/step - loss: 0.6019 - accuracy: 0.7059\n",
            "Epoch 2/3\n",
            "465/465 [==============================] - 1s 1ms/step - loss: 0.6016 - accuracy: 0.7054\n",
            "Epoch 3/3\n",
            "465/465 [==============================] - 1s 1ms/step - loss: 0.6015 - accuracy: 0.7070\n",
            "Epoch 1/3\n",
            "465/465 [==============================] - 1s 1ms/step - loss: 0.6016 - accuracy: 0.7063\n",
            "Epoch 2/3\n",
            "465/465 [==============================] - 1s 1ms/step - loss: 0.6014 - accuracy: 0.7058\n",
            "Epoch 3/3\n",
            "465/465 [==============================] - 1s 1ms/step - loss: 0.6013 - accuracy: 0.7073\n",
            "Epoch 1/3\n",
            "465/465 [==============================] - 1s 2ms/step - loss: 0.6014 - accuracy: 0.7066\n",
            "Epoch 2/3\n",
            "465/465 [==============================] - 1s 1ms/step - loss: 0.6012 - accuracy: 0.7062\n",
            "Epoch 3/3\n",
            "465/465 [==============================] - 1s 2ms/step - loss: 0.6010 - accuracy: 0.7079\n",
            "Epoch 1/3\n",
            "465/465 [==============================] - 1s 2ms/step - loss: 0.6012 - accuracy: 0.7070\n",
            "Epoch 2/3\n",
            "465/465 [==============================] - 1s 1ms/step - loss: 0.6009 - accuracy: 0.7066\n",
            "Epoch 3/3\n",
            "465/465 [==============================] - 1s 1ms/step - loss: 0.6007 - accuracy: 0.7079\n",
            "Epoch 1/3\n",
            "465/465 [==============================] - 1s 1ms/step - loss: 0.6009 - accuracy: 0.7073\n",
            "Epoch 2/3\n",
            "465/465 [==============================] - 1s 2ms/step - loss: 0.6006 - accuracy: 0.7071\n",
            "Epoch 3/3\n",
            "465/465 [==============================] - 1s 2ms/step - loss: 0.6005 - accuracy: 0.7083\n",
            "Epoch 1/3\n",
            "465/465 [==============================] - 1s 1ms/step - loss: 0.6007 - accuracy: 0.7073\n",
            "Epoch 2/3\n",
            "465/465 [==============================] - 1s 1ms/step - loss: 0.6005 - accuracy: 0.7075\n",
            "Epoch 3/3\n",
            "465/465 [==============================] - 1s 1ms/step - loss: 0.6003 - accuracy: 0.7086\n",
            "Epoch 1/3\n",
            "465/465 [==============================] - 1s 1ms/step - loss: 0.6005 - accuracy: 0.7074\n",
            "Epoch 2/3\n",
            "465/465 [==============================] - 1s 1ms/step - loss: 0.6003 - accuracy: 0.7076\n",
            "Epoch 3/3\n",
            "465/465 [==============================] - 1s 1ms/step - loss: 0.6001 - accuracy: 0.7087\n",
            "Epoch 1/3\n",
            "465/465 [==============================] - 1s 2ms/step - loss: 0.6003 - accuracy: 0.7077\n",
            "Epoch 2/3\n",
            "465/465 [==============================] - 1s 1ms/step - loss: 0.6001 - accuracy: 0.7079\n",
            "Epoch 3/3\n",
            "465/465 [==============================] - 1s 1ms/step - loss: 0.5999 - accuracy: 0.7089\n",
            "Epoch 1/3\n",
            "465/465 [==============================] - 1s 1ms/step - loss: 0.6002 - accuracy: 0.7079\n",
            "Epoch 2/3\n",
            "465/465 [==============================] - 1s 1ms/step - loss: 0.5999 - accuracy: 0.7082\n",
            "Epoch 3/3\n",
            "465/465 [==============================] - 1s 2ms/step - loss: 0.5997 - accuracy: 0.7092\n",
            "Epoch 1/3\n",
            "465/465 [==============================] - 1s 1ms/step - loss: 0.6000 - accuracy: 0.7080\n",
            "Epoch 2/3\n",
            "465/465 [==============================] - 1s 1ms/step - loss: 0.5998 - accuracy: 0.7083\n",
            "Epoch 3/3\n",
            "465/465 [==============================] - 1s 1ms/step - loss: 0.5996 - accuracy: 0.7093\n",
            "Epoch 1/3\n",
            "465/465 [==============================] - 1s 1ms/step - loss: 0.5999 - accuracy: 0.7085\n",
            "Epoch 2/3\n",
            "465/465 [==============================] - 1s 2ms/step - loss: 0.5996 - accuracy: 0.7085\n",
            "Epoch 3/3\n",
            "465/465 [==============================] - 1s 1ms/step - loss: 0.5994 - accuracy: 0.7095\n",
            "Epoch 1/3\n",
            "465/465 [==============================] - 1s 1ms/step - loss: 0.5997 - accuracy: 0.7085\n",
            "Epoch 2/3\n",
            "465/465 [==============================] - 1s 1ms/step - loss: 0.5994 - accuracy: 0.7088\n",
            "Epoch 3/3\n",
            "465/465 [==============================] - 1s 2ms/step - loss: 0.5992 - accuracy: 0.7098\n",
            "Epoch 1/3\n",
            "465/465 [==============================] - 1s 1ms/step - loss: 0.5996 - accuracy: 0.7084\n",
            "Epoch 2/3\n",
            "465/465 [==============================] - 1s 1ms/step - loss: 0.5993 - accuracy: 0.7090\n",
            "Epoch 3/3\n",
            "465/465 [==============================] - 1s 1ms/step - loss: 0.5991 - accuracy: 0.7098\n"
          ]
        }
      ],
      "source": [
        "SEED = 0\n",
        "\n",
        "np.random.seed(SEED)\n",
        "python_random.seed(SEED)\n",
        "tf.random.set_seed(SEED)\n",
        "\n",
        "ann = keras.Sequential()\n",
        "ann.add(layers.Dense(6, activation='relu'))\n",
        "ann.add(layers.Dense(1, activation='sigmoid'))\n",
        "\n",
        "ann.compile(optimizer='adam', loss='binary_crossentropy', metrics=['accuracy'])\n",
        "\n",
        "i=0\n",
        "\n",
        "while i <=30 :\n",
        "  history = ann.fit(X_train, y_train, batch_size=128, epochs=3)\n",
        "  y_pred = ann.predict(X_test)\n",
        "  y_pred = (y_pred > 0.5)\n",
        "\n",
        "  i = i + 1\n"
      ]
    },
    {
      "cell_type": "code",
      "execution_count": null,
      "metadata": {
        "colab": {
          "base_uri": "https://localhost:8080/"
        },
        "id": "R6Q4k69aQstP",
        "outputId": "f642f3e4-9d3e-43a6-b20d-b5da075710a7"
      },
      "outputs": [
        {
          "output_type": "execute_result",
          "data": {
            "text/plain": [
              "0.7055238095238096"
            ]
          },
          "metadata": {},
          "execution_count": 30
        }
      ],
      "source": [
        "confusion_matrix(y_test, y_pred)\n",
        "accuracy_score(y_test, y_pred)"
      ]
    },
    {
      "cell_type": "markdown",
      "source": [
        "Classificação da base Titanic. Esta base lista os tripulantes do Titanic, indicando quais\n",
        "deles sobreviveram ao naufrágio. O problema de classificação para essa base é\n",
        "exatamente predizer, com base nos dados de cada tripulante, se ele sobreviveu ou não.\n",
        "A divisão entre treinamento e teste já está feita nos arquivos disponibilizados, em\n",
        "titanic_train.csv e titanic_test.csv, respectivamente. Além disso, o arquivo test_y.csv\n",
        "apresenta as respostas para a base de testes. O notebook redes-neurais-titanic.ipynb\n",
        "realiza um processamento inicial da base e pode ser utilizado neste exercícios.\n",
        "No caso deste exercício, além de melhorar os resultados, vocês devem utilizar seu\n",
        "melhor modelo para testar a base disponibilizada na competição Kaggle descrita abaixo\n",
        "e que se aplica à base TItanic:\n",
        "\n",
        "https://www.kaggle.com/competitions/titanic/overview/evaluation\n",
        "Para essa atividade, vocês devem criar uma conta na Kaggle, entrar na competição\n",
        "acima e submeter as respostas conforme as instruções da plataforma. Em seguida,\n",
        "tirem um print do leaderboard indicando onde vocês apareceram no ranking da\n",
        "competição."
      ],
      "metadata": {
        "id": "y0xjyvzfX6Yj"
      }
    },
    {
      "cell_type": "code",
      "source": [
        "tita_test_data = pd.read_csv(\"https://raw.githubusercontent.com/GabrielMarques369/Tabelas/main/titanic_test.cvs\", sep=',')\n",
        "tita_train_data = pd.read_csv(\"https://raw.githubusercontent.com/GabrielMarques369/Tabelas/main/titanic_train.csv\", sep=',')\n",
        "tita_test_y = pd.read_csv(\"https://raw.githubusercontent.com/GabrielMarques369/Tabelas/main/test_y.csv\", sep=',')"
      ],
      "metadata": {
        "id": "ILXuUFZ6v_e3"
      },
      "execution_count": null,
      "outputs": []
    },
    {
      "cell_type": "code",
      "source": [
        "# Removendo colunas que não devem trazer muita informação relevante\n",
        "tita_train_data.drop(['Name', 'Ticket', 'Cabin'], axis=1, inplace=True)\n",
        "tita_test_data.drop(['Name', 'Ticket', 'Cabin'], axis=1, inplace=True)"
      ],
      "metadata": {
        "id": "rkjIJSlvX2lm"
      },
      "execution_count": null,
      "outputs": []
    },
    {
      "cell_type": "code",
      "source": [
        "# Transformando valores texto em número. Com o label encoder, os valores são de 0 a (número total de valores distintos - 1)\n",
        "le = LabelEncoder()\n",
        "tita_train_data[\"Sex\"] = le.fit_transform(tita_train_data[\"Sex\"])\n",
        "tita_test_data[\"Sex\"] = le.fit_transform(tita_test_data[\"Sex\"])"
      ],
      "metadata": {
        "id": "0DDtkfA1526F"
      },
      "execution_count": null,
      "outputs": []
    },
    {
      "cell_type": "code",
      "source": [
        "# Transformação One-hot Encoder faz a transformação a partir da criação de diferentes colunas. \n",
        "# Isso evita um viés em informações onde ele não ocorre.\n",
        "enc = OneHotEncoder(handle_unknown='ignore')\n",
        "\n",
        "one_hot_encond_temp = pd.DataFrame(enc.fit_transform(tita_train_data[['Embarked']]).toarray())\n",
        "tita_train_data = tita_train_data.iloc[: , :-1]\n",
        "pd.concat([tita_train_data, one_hot_encond_temp], axis=1, ignore_index=False)\n",
        "\n",
        "one_hot_encond_temp = pd.DataFrame(enc.fit_transform(tita_test_data[['Embarked']]).toarray())\n",
        "tita_test_data = tita_test_data.iloc[: , :-1]\n",
        "pd.concat([tita_test_data, one_hot_encond_temp], axis=1, ignore_index=False)"
      ],
      "metadata": {
        "colab": {
          "base_uri": "https://localhost:8080/",
          "height": 424
        },
        "id": "hcHGjoS8_uuc",
        "outputId": "0a3fe573-fabd-4443-b4ac-938ece114b45"
      },
      "execution_count": null,
      "outputs": [
        {
          "output_type": "execute_result",
          "data": {
            "text/plain": [
              "     PassengerId  Pclass  Sex   Age  SibSp  Parch      Fare    0    1    2\n",
              "0            892       3    1  34.5      0      0    7.8292  0.0  1.0  0.0\n",
              "1            893       3    0  47.0      1      0    7.0000  0.0  0.0  1.0\n",
              "2            894       2    1  62.0      0      0    9.6875  0.0  1.0  0.0\n",
              "3            895       3    1  27.0      0      0    8.6625  0.0  0.0  1.0\n",
              "4            896       3    0  22.0      1      1   12.2875  0.0  0.0  1.0\n",
              "..           ...     ...  ...   ...    ...    ...       ...  ...  ...  ...\n",
              "413         1305       3    1   NaN      0      0    8.0500  0.0  0.0  1.0\n",
              "414         1306       1    0  39.0      0      0  108.9000  1.0  0.0  0.0\n",
              "415         1307       3    1  38.5      0      0    7.2500  0.0  0.0  1.0\n",
              "416         1308       3    1   NaN      0      0    8.0500  0.0  0.0  1.0\n",
              "417         1309       3    1   NaN      1      1   22.3583  1.0  0.0  0.0\n",
              "\n",
              "[418 rows x 10 columns]"
            ],
            "text/html": [
              "\n",
              "  <div id=\"df-d157f332-0bf7-4b82-917a-0425dba4b867\">\n",
              "    <div class=\"colab-df-container\">\n",
              "      <div>\n",
              "<style scoped>\n",
              "    .dataframe tbody tr th:only-of-type {\n",
              "        vertical-align: middle;\n",
              "    }\n",
              "\n",
              "    .dataframe tbody tr th {\n",
              "        vertical-align: top;\n",
              "    }\n",
              "\n",
              "    .dataframe thead th {\n",
              "        text-align: right;\n",
              "    }\n",
              "</style>\n",
              "<table border=\"1\" class=\"dataframe\">\n",
              "  <thead>\n",
              "    <tr style=\"text-align: right;\">\n",
              "      <th></th>\n",
              "      <th>PassengerId</th>\n",
              "      <th>Pclass</th>\n",
              "      <th>Sex</th>\n",
              "      <th>Age</th>\n",
              "      <th>SibSp</th>\n",
              "      <th>Parch</th>\n",
              "      <th>Fare</th>\n",
              "      <th>0</th>\n",
              "      <th>1</th>\n",
              "      <th>2</th>\n",
              "    </tr>\n",
              "  </thead>\n",
              "  <tbody>\n",
              "    <tr>\n",
              "      <th>0</th>\n",
              "      <td>892</td>\n",
              "      <td>3</td>\n",
              "      <td>1</td>\n",
              "      <td>34.5</td>\n",
              "      <td>0</td>\n",
              "      <td>0</td>\n",
              "      <td>7.8292</td>\n",
              "      <td>0.0</td>\n",
              "      <td>1.0</td>\n",
              "      <td>0.0</td>\n",
              "    </tr>\n",
              "    <tr>\n",
              "      <th>1</th>\n",
              "      <td>893</td>\n",
              "      <td>3</td>\n",
              "      <td>0</td>\n",
              "      <td>47.0</td>\n",
              "      <td>1</td>\n",
              "      <td>0</td>\n",
              "      <td>7.0000</td>\n",
              "      <td>0.0</td>\n",
              "      <td>0.0</td>\n",
              "      <td>1.0</td>\n",
              "    </tr>\n",
              "    <tr>\n",
              "      <th>2</th>\n",
              "      <td>894</td>\n",
              "      <td>2</td>\n",
              "      <td>1</td>\n",
              "      <td>62.0</td>\n",
              "      <td>0</td>\n",
              "      <td>0</td>\n",
              "      <td>9.6875</td>\n",
              "      <td>0.0</td>\n",
              "      <td>1.0</td>\n",
              "      <td>0.0</td>\n",
              "    </tr>\n",
              "    <tr>\n",
              "      <th>3</th>\n",
              "      <td>895</td>\n",
              "      <td>3</td>\n",
              "      <td>1</td>\n",
              "      <td>27.0</td>\n",
              "      <td>0</td>\n",
              "      <td>0</td>\n",
              "      <td>8.6625</td>\n",
              "      <td>0.0</td>\n",
              "      <td>0.0</td>\n",
              "      <td>1.0</td>\n",
              "    </tr>\n",
              "    <tr>\n",
              "      <th>4</th>\n",
              "      <td>896</td>\n",
              "      <td>3</td>\n",
              "      <td>0</td>\n",
              "      <td>22.0</td>\n",
              "      <td>1</td>\n",
              "      <td>1</td>\n",
              "      <td>12.2875</td>\n",
              "      <td>0.0</td>\n",
              "      <td>0.0</td>\n",
              "      <td>1.0</td>\n",
              "    </tr>\n",
              "    <tr>\n",
              "      <th>...</th>\n",
              "      <td>...</td>\n",
              "      <td>...</td>\n",
              "      <td>...</td>\n",
              "      <td>...</td>\n",
              "      <td>...</td>\n",
              "      <td>...</td>\n",
              "      <td>...</td>\n",
              "      <td>...</td>\n",
              "      <td>...</td>\n",
              "      <td>...</td>\n",
              "    </tr>\n",
              "    <tr>\n",
              "      <th>413</th>\n",
              "      <td>1305</td>\n",
              "      <td>3</td>\n",
              "      <td>1</td>\n",
              "      <td>NaN</td>\n",
              "      <td>0</td>\n",
              "      <td>0</td>\n",
              "      <td>8.0500</td>\n",
              "      <td>0.0</td>\n",
              "      <td>0.0</td>\n",
              "      <td>1.0</td>\n",
              "    </tr>\n",
              "    <tr>\n",
              "      <th>414</th>\n",
              "      <td>1306</td>\n",
              "      <td>1</td>\n",
              "      <td>0</td>\n",
              "      <td>39.0</td>\n",
              "      <td>0</td>\n",
              "      <td>0</td>\n",
              "      <td>108.9000</td>\n",
              "      <td>1.0</td>\n",
              "      <td>0.0</td>\n",
              "      <td>0.0</td>\n",
              "    </tr>\n",
              "    <tr>\n",
              "      <th>415</th>\n",
              "      <td>1307</td>\n",
              "      <td>3</td>\n",
              "      <td>1</td>\n",
              "      <td>38.5</td>\n",
              "      <td>0</td>\n",
              "      <td>0</td>\n",
              "      <td>7.2500</td>\n",
              "      <td>0.0</td>\n",
              "      <td>0.0</td>\n",
              "      <td>1.0</td>\n",
              "    </tr>\n",
              "    <tr>\n",
              "      <th>416</th>\n",
              "      <td>1308</td>\n",
              "      <td>3</td>\n",
              "      <td>1</td>\n",
              "      <td>NaN</td>\n",
              "      <td>0</td>\n",
              "      <td>0</td>\n",
              "      <td>8.0500</td>\n",
              "      <td>0.0</td>\n",
              "      <td>0.0</td>\n",
              "      <td>1.0</td>\n",
              "    </tr>\n",
              "    <tr>\n",
              "      <th>417</th>\n",
              "      <td>1309</td>\n",
              "      <td>3</td>\n",
              "      <td>1</td>\n",
              "      <td>NaN</td>\n",
              "      <td>1</td>\n",
              "      <td>1</td>\n",
              "      <td>22.3583</td>\n",
              "      <td>1.0</td>\n",
              "      <td>0.0</td>\n",
              "      <td>0.0</td>\n",
              "    </tr>\n",
              "  </tbody>\n",
              "</table>\n",
              "<p>418 rows × 10 columns</p>\n",
              "</div>\n",
              "      <button class=\"colab-df-convert\" onclick=\"convertToInteractive('df-d157f332-0bf7-4b82-917a-0425dba4b867')\"\n",
              "              title=\"Convert this dataframe to an interactive table.\"\n",
              "              style=\"display:none;\">\n",
              "        \n",
              "  <svg xmlns=\"http://www.w3.org/2000/svg\" height=\"24px\"viewBox=\"0 0 24 24\"\n",
              "       width=\"24px\">\n",
              "    <path d=\"M0 0h24v24H0V0z\" fill=\"none\"/>\n",
              "    <path d=\"M18.56 5.44l.94 2.06.94-2.06 2.06-.94-2.06-.94-.94-2.06-.94 2.06-2.06.94zm-11 1L8.5 8.5l.94-2.06 2.06-.94-2.06-.94L8.5 2.5l-.94 2.06-2.06.94zm10 10l.94 2.06.94-2.06 2.06-.94-2.06-.94-.94-2.06-.94 2.06-2.06.94z\"/><path d=\"M17.41 7.96l-1.37-1.37c-.4-.4-.92-.59-1.43-.59-.52 0-1.04.2-1.43.59L10.3 9.45l-7.72 7.72c-.78.78-.78 2.05 0 2.83L4 21.41c.39.39.9.59 1.41.59.51 0 1.02-.2 1.41-.59l7.78-7.78 2.81-2.81c.8-.78.8-2.07 0-2.86zM5.41 20L4 18.59l7.72-7.72 1.47 1.35L5.41 20z\"/>\n",
              "  </svg>\n",
              "      </button>\n",
              "      \n",
              "  <style>\n",
              "    .colab-df-container {\n",
              "      display:flex;\n",
              "      flex-wrap:wrap;\n",
              "      gap: 12px;\n",
              "    }\n",
              "\n",
              "    .colab-df-convert {\n",
              "      background-color: #E8F0FE;\n",
              "      border: none;\n",
              "      border-radius: 50%;\n",
              "      cursor: pointer;\n",
              "      display: none;\n",
              "      fill: #1967D2;\n",
              "      height: 32px;\n",
              "      padding: 0 0 0 0;\n",
              "      width: 32px;\n",
              "    }\n",
              "\n",
              "    .colab-df-convert:hover {\n",
              "      background-color: #E2EBFA;\n",
              "      box-shadow: 0px 1px 2px rgba(60, 64, 67, 0.3), 0px 1px 3px 1px rgba(60, 64, 67, 0.15);\n",
              "      fill: #174EA6;\n",
              "    }\n",
              "\n",
              "    [theme=dark] .colab-df-convert {\n",
              "      background-color: #3B4455;\n",
              "      fill: #D2E3FC;\n",
              "    }\n",
              "\n",
              "    [theme=dark] .colab-df-convert:hover {\n",
              "      background-color: #434B5C;\n",
              "      box-shadow: 0px 1px 3px 1px rgba(0, 0, 0, 0.15);\n",
              "      filter: drop-shadow(0px 1px 2px rgba(0, 0, 0, 0.3));\n",
              "      fill: #FFFFFF;\n",
              "    }\n",
              "  </style>\n",
              "\n",
              "      <script>\n",
              "        const buttonEl =\n",
              "          document.querySelector('#df-d157f332-0bf7-4b82-917a-0425dba4b867 button.colab-df-convert');\n",
              "        buttonEl.style.display =\n",
              "          google.colab.kernel.accessAllowed ? 'block' : 'none';\n",
              "\n",
              "        async function convertToInteractive(key) {\n",
              "          const element = document.querySelector('#df-d157f332-0bf7-4b82-917a-0425dba4b867');\n",
              "          const dataTable =\n",
              "            await google.colab.kernel.invokeFunction('convertToInteractive',\n",
              "                                                     [key], {});\n",
              "          if (!dataTable) return;\n",
              "\n",
              "          const docLinkHtml = 'Like what you see? Visit the ' +\n",
              "            '<a target=\"_blank\" href=https://colab.research.google.com/notebooks/data_table.ipynb>data table notebook</a>'\n",
              "            + ' to learn more about interactive tables.';\n",
              "          element.innerHTML = '';\n",
              "          dataTable['output_type'] = 'display_data';\n",
              "          await google.colab.output.renderOutput(dataTable, element);\n",
              "          const docLink = document.createElement('div');\n",
              "          docLink.innerHTML = docLinkHtml;\n",
              "          element.appendChild(docLink);\n",
              "        }\n",
              "      </script>\n",
              "    </div>\n",
              "  </div>\n",
              "  "
            ]
          },
          "metadata": {},
          "execution_count": 50
        }
      ]
    },
    {
      "cell_type": "code",
      "source": [
        "#Tratamento dos dados faltantes, substituindo as linhas faltantes por um valor fixo, que no caso, para as colunas numéricas Age e Fare, \n",
        "#substituímos os dados faltantes pela média. Já as colunas SibSp e Parch tiveram seus dados substituídos por -1.\n",
        "\n",
        "tita_train_data['Age'].fillna(tita_train_data['Age'].mean(), inplace=True)\n",
        "tita_train_data['Fare'].fillna(tita_train_data['Fare'].mean(), inplace=True)\n",
        "tita_train_data['SibSp'].fillna(-1, inplace=True)\n",
        "tita_train_data['Parch'].fillna(-1, inplace=True)\n",
        "\n",
        "tita_test_data['Age'].fillna(tita_train_data['Age'].mean(), inplace=True)\n",
        "tita_test_data['Fare'].fillna(tita_train_data['Fare'].mean(), inplace=True)\n",
        "tita_test_data['SibSp'].fillna(-1, inplace=True)\n",
        "tita_test_data['Parch'].fillna(-1, inplace=True)"
      ],
      "metadata": {
        "id": "PS17lyMYAF-s"
      },
      "execution_count": null,
      "outputs": []
    },
    {
      "cell_type": "code",
      "source": [
        "test_passenger_ids = tita_test_data['PassengerId']"
      ],
      "metadata": {
        "id": "KpKgdjsJAM2s"
      },
      "execution_count": null,
      "outputs": []
    },
    {
      "cell_type": "code",
      "source": [
        "tita_train_data.drop(['PassengerId'], axis=1, inplace=True)\n",
        "tita_test_data.drop(['PassengerId'], axis=1, inplace=True)"
      ],
      "metadata": {
        "id": "xOFMMN4WAPSd"
      },
      "execution_count": null,
      "outputs": []
    },
    {
      "cell_type": "code",
      "source": [
        "XTrain = tita_train_data.iloc[: , 1 : ]\n",
        "yTrain = tita_train_data.iloc[: , 0]\n",
        "\n",
        "XTest = tita_test_data"
      ],
      "metadata": {
        "id": "Mhuw68oEASGz"
      },
      "execution_count": null,
      "outputs": []
    },
    {
      "cell_type": "code",
      "source": [
        "sc = StandardScaler()\n",
        "sc.fit(XTrain)\n",
        "\n",
        "XTrain = sc.transform(XTrain.values)\n",
        "XTest = sc.transform(XTest.values)"
      ],
      "metadata": {
        "colab": {
          "base_uri": "https://localhost:8080/"
        },
        "id": "_utjTDMZAVqT",
        "outputId": "14094056-f872-41dd-c932-854afdc4bdd8"
      },
      "execution_count": null,
      "outputs": [
        {
          "output_type": "stream",
          "name": "stderr",
          "text": [
            "/usr/local/lib/python3.7/dist-packages/sklearn/base.py:451: UserWarning: X does not have valid feature names, but StandardScaler was fitted with feature names\n",
            "  \"X does not have valid feature names, but\"\n",
            "/usr/local/lib/python3.7/dist-packages/sklearn/base.py:451: UserWarning: X does not have valid feature names, but StandardScaler was fitted with feature names\n",
            "  \"X does not have valid feature names, but\"\n"
          ]
        }
      ]
    },
    {
      "cell_type": "code",
      "source": [
        "ppn = Perceptron(max_iter=418, eta0=0.1, random_state=0) \n",
        "\n",
        "ppn.fit(XTrain, yTrain)"
      ],
      "metadata": {
        "colab": {
          "base_uri": "https://localhost:8080/"
        },
        "id": "3CS4BDidKJMb",
        "outputId": "75483ec6-aae0-4882-d8b6-8cb6ffb9df62"
      },
      "execution_count": null,
      "outputs": [
        {
          "output_type": "execute_result",
          "data": {
            "text/plain": [
              "Perceptron(eta0=0.1, max_iter=418)"
            ]
          },
          "metadata": {},
          "execution_count": 56
        }
      ]
    },
    {
      "cell_type": "code",
      "source": [
        "yPred = ppn.predict(XTest)\n",
        "y_test = pd.read_csv(\"https://raw.githubusercontent.com/GabrielMarques369/Tabelas/main/test_y.csv\")"
      ],
      "metadata": {
        "id": "7s_OsaXTNfEJ"
      },
      "execution_count": null,
      "outputs": []
    },
    {
      "cell_type": "code",
      "source": [
        "y_test = pd.read_csv(\"https://raw.githubusercontent.com/GabrielMarques369/Tabelas/main/test_y.csv\")\n",
        "y_test = y_test[y_test['PassengerId'].isin(test_passenger_ids)]\n",
        "y_test = y_test['Survived'].values"
      ],
      "metadata": {
        "id": "xCQ7suEl2M1V"
      },
      "execution_count": null,
      "outputs": []
    },
    {
      "cell_type": "code",
      "source": [
        "confusion_matrix(y_test, yPred)"
      ],
      "metadata": {
        "colab": {
          "base_uri": "https://localhost:8080/"
        },
        "id": "GEhzrbzE3FXj",
        "outputId": "4802536e-b378-4c33-da15-03a3ed96f01b"
      },
      "execution_count": null,
      "outputs": [
        {
          "output_type": "execute_result",
          "data": {
            "text/plain": [
              "array([[197,  69],\n",
              "       [ 14, 138]])"
            ]
          },
          "metadata": {},
          "execution_count": 59
        }
      ]
    },
    {
      "cell_type": "code",
      "source": [
        "plot_confusion_matrix(ppn, XTest, y_test)"
      ],
      "metadata": {
        "colab": {
          "base_uri": "https://localhost:8080/",
          "height": 351
        },
        "id": "6g_uGClm3VAA",
        "outputId": "765460de-7ae5-4e34-e340-2a5cb22595ae"
      },
      "execution_count": null,
      "outputs": [
        {
          "output_type": "stream",
          "name": "stderr",
          "text": [
            "/usr/local/lib/python3.7/dist-packages/sklearn/utils/deprecation.py:87: FutureWarning: Function plot_confusion_matrix is deprecated; Function `plot_confusion_matrix` is deprecated in 1.0 and will be removed in 1.2. Use one of the class methods: ConfusionMatrixDisplay.from_predictions or ConfusionMatrixDisplay.from_estimator.\n",
            "  warnings.warn(msg, category=FutureWarning)\n"
          ]
        },
        {
          "output_type": "execute_result",
          "data": {
            "text/plain": [
              "<sklearn.metrics._plot.confusion_matrix.ConfusionMatrixDisplay at 0x7f101754a410>"
            ]
          },
          "metadata": {},
          "execution_count": 60
        },
        {
          "output_type": "display_data",
          "data": {
            "text/plain": [
              "<Figure size 432x288 with 2 Axes>"
            ],
            "image/png": "[encoded data removed]"
          },
          "metadata": {
            "needs_background": "light"
          }
        }
      ]
    },
    {
      "cell_type": "code",
      "source": [
        "accuracy_score(y_test, yPred)"
      ],
      "metadata": {
        "colab": {
          "base_uri": "https://localhost:8080/"
        },
        "id": "b1vQqgmB3ySk",
        "outputId": "65856f2e-f73b-4c8c-fd56-a9c2c461806d"
      },
      "execution_count": null,
      "outputs": [
        {
          "output_type": "execute_result",
          "data": {
            "text/plain": [
              "0.8014354066985646"
            ]
          },
          "metadata": {},
          "execution_count": 61
        }
      ]
    },
    {
      "cell_type": "code",
      "source": [
        "resposta_submit = pd.DataFrame()"
      ],
      "metadata": {
        "id": "a1v4zH5c36jK"
      },
      "execution_count": null,
      "outputs": []
    },
    {
      "cell_type": "code",
      "source": [
        "resposta_submit['PassengerId'] = test_passenger_ids\n",
        "resposta_submit['Survived'] = yPred"
      ],
      "metadata": {
        "id": "hLKME3n04IkM"
      },
      "execution_count": null,
      "outputs": []
    },
    {
      "cell_type": "code",
      "source": [
        "resposta_submit"
      ],
      "metadata": {
        "colab": {
          "base_uri": "https://localhost:8080/",
          "height": 424
        },
        "id": "M3Mb2kjL_CPR",
        "outputId": "df24e477-1bd3-40a5-894e-c30300f60946"
      },
      "execution_count": null,
      "outputs": [
        {
          "output_type": "execute_result",
          "data": {
            "text/plain": [
              "     PassengerId  Survived\n",
              "0            892         0\n",
              "1            893         1\n",
              "2            894         0\n",
              "3            895         0\n",
              "4            896         1\n",
              "..           ...       ...\n",
              "413         1305         0\n",
              "414         1306         1\n",
              "415         1307         0\n",
              "416         1308         0\n",
              "417         1309         0\n",
              "\n",
              "[418 rows x 2 columns]"
            ],
            "text/html": [
              "\n",
              "  <div id=\"df-8bc2e41c-9103-48af-94b0-e6110d62224f\">\n",
              "    <div class=\"colab-df-container\">\n",
              "      <div>\n",
              "<style scoped>\n",
              "    .dataframe tbody tr th:only-of-type {\n",
              "        vertical-align: middle;\n",
              "    }\n",
              "\n",
              "    .dataframe tbody tr th {\n",
              "        vertical-align: top;\n",
              "    }\n",
              "\n",
              "    .dataframe thead th {\n",
              "        text-align: right;\n",
              "    }\n",
              "</style>\n",
              "<table border=\"1\" class=\"dataframe\">\n",
              "  <thead>\n",
              "    <tr style=\"text-align: right;\">\n",
              "      <th></th>\n",
              "      <th>PassengerId</th>\n",
              "      <th>Survived</th>\n",
              "    </tr>\n",
              "  </thead>\n",
              "  <tbody>\n",
              "    <tr>\n",
              "      <th>0</th>\n",
              "      <td>892</td>\n",
              "      <td>0</td>\n",
              "    </tr>\n",
              "    <tr>\n",
              "      <th>1</th>\n",
              "      <td>893</td>\n",
              "      <td>1</td>\n",
              "    </tr>\n",
              "    <tr>\n",
              "      <th>2</th>\n",
              "      <td>894</td>\n",
              "      <td>0</td>\n",
              "    </tr>\n",
              "    <tr>\n",
              "      <th>3</th>\n",
              "      <td>895</td>\n",
              "      <td>0</td>\n",
              "    </tr>\n",
              "    <tr>\n",
              "      <th>4</th>\n",
              "      <td>896</td>\n",
              "      <td>1</td>\n",
              "    </tr>\n",
              "    <tr>\n",
              "      <th>...</th>\n",
              "      <td>...</td>\n",
              "      <td>...</td>\n",
              "    </tr>\n",
              "    <tr>\n",
              "      <th>413</th>\n",
              "      <td>1305</td>\n",
              "      <td>0</td>\n",
              "    </tr>\n",
              "    <tr>\n",
              "      <th>414</th>\n",
              "      <td>1306</td>\n",
              "      <td>1</td>\n",
              "    </tr>\n",
              "    <tr>\n",
              "      <th>415</th>\n",
              "      <td>1307</td>\n",
              "      <td>0</td>\n",
              "    </tr>\n",
              "    <tr>\n",
              "      <th>416</th>\n",
              "      <td>1308</td>\n",
              "      <td>0</td>\n",
              "    </tr>\n",
              "    <tr>\n",
              "      <th>417</th>\n",
              "      <td>1309</td>\n",
              "      <td>0</td>\n",
              "    </tr>\n",
              "  </tbody>\n",
              "</table>\n",
              "<p>418 rows × 2 columns</p>\n",
              "</div>\n",
              "      <button class=\"colab-df-convert\" onclick=\"convertToInteractive('df-8bc2e41c-9103-48af-94b0-e6110d62224f')\"\n",
              "              title=\"Convert this dataframe to an interactive table.\"\n",
              "              style=\"display:none;\">\n",
              "        \n",
              "  <svg xmlns=\"http://www.w3.org/2000/svg\" height=\"24px\"viewBox=\"0 0 24 24\"\n",
              "       width=\"24px\">\n",
              "    <path d=\"M0 0h24v24H0V0z\" fill=\"none\"/>\n",
              "    <path d=\"M18.56 5.44l.94 2.06.94-2.06 2.06-.94-2.06-.94-.94-2.06-.94 2.06-2.06.94zm-11 1L8.5 8.5l.94-2.06 2.06-.94-2.06-.94L8.5 2.5l-.94 2.06-2.06.94zm10 10l.94 2.06.94-2.06 2.06-.94-2.06-.94-.94-2.06-.94 2.06-2.06.94z\"/><path d=\"M17.41 7.96l-1.37-1.37c-.4-.4-.92-.59-1.43-.59-.52 0-1.04.2-1.43.59L10.3 9.45l-7.72 7.72c-.78.78-.78 2.05 0 2.83L4 21.41c.39.39.9.59 1.41.59.51 0 1.02-.2 1.41-.59l7.78-7.78 2.81-2.81c.8-.78.8-2.07 0-2.86zM5.41 20L4 18.59l7.72-7.72 1.47 1.35L5.41 20z\"/>\n",
              "  </svg>\n",
              "      </button>\n",
              "      \n",
              "  <style>\n",
              "    .colab-df-container {\n",
              "      display:flex;\n",
              "      flex-wrap:wrap;\n",
              "      gap: 12px;\n",
              "    }\n",
              "\n",
              "    .colab-df-convert {\n",
              "      background-color: #E8F0FE;\n",
              "      border: none;\n",
              "      border-radius: 50%;\n",
              "      cursor: pointer;\n",
              "      display: none;\n",
              "      fill: #1967D2;\n",
              "      height: 32px;\n",
              "      padding: 0 0 0 0;\n",
              "      width: 32px;\n",
              "    }\n",
              "\n",
              "    .colab-df-convert:hover {\n",
              "      background-color: #E2EBFA;\n",
              "      box-shadow: 0px 1px 2px rgba(60, 64, 67, 0.3), 0px 1px 3px 1px rgba(60, 64, 67, 0.15);\n",
              "      fill: #174EA6;\n",
              "    }\n",
              "\n",
              "    [theme=dark] .colab-df-convert {\n",
              "      background-color: #3B4455;\n",
              "      fill: #D2E3FC;\n",
              "    }\n",
              "\n",
              "    [theme=dark] .colab-df-convert:hover {\n",
              "      background-color: #434B5C;\n",
              "      box-shadow: 0px 1px 3px 1px rgba(0, 0, 0, 0.15);\n",
              "      filter: drop-shadow(0px 1px 2px rgba(0, 0, 0, 0.3));\n",
              "      fill: #FFFFFF;\n",
              "    }\n",
              "  </style>\n",
              "\n",
              "      <script>\n",
              "        const buttonEl =\n",
              "          document.querySelector('#df-8bc2e41c-9103-48af-94b0-e6110d62224f button.colab-df-convert');\n",
              "        buttonEl.style.display =\n",
              "          google.colab.kernel.accessAllowed ? 'block' : 'none';\n",
              "\n",
              "        async function convertToInteractive(key) {\n",
              "          const element = document.querySelector('#df-8bc2e41c-9103-48af-94b0-e6110d62224f');\n",
              "          const dataTable =\n",
              "            await google.colab.kernel.invokeFunction('convertToInteractive',\n",
              "                                                     [key], {});\n",
              "          if (!dataTable) return;\n",
              "\n",
              "          const docLinkHtml = 'Like what you see? Visit the ' +\n",
              "            '<a target=\"_blank\" href=https://colab.research.google.com/notebooks/data_table.ipynb>data table notebook</a>'\n",
              "            + ' to learn more about interactive tables.';\n",
              "          element.innerHTML = '';\n",
              "          dataTable['output_type'] = 'display_data';\n",
              "          await google.colab.output.renderOutput(dataTable, element);\n",
              "          const docLink = document.createElement('div');\n",
              "          docLink.innerHTML = docLinkHtml;\n",
              "          element.appendChild(docLink);\n",
              "        }\n",
              "      </script>\n",
              "    </div>\n",
              "  </div>\n",
              "  "
            ]
          },
          "metadata": {},
          "execution_count": 64
        }
      ]
    },
    {
      "cell_type": "code",
      "source": [
        "resposta_submit.to_csv('submit.csv')"
      ],
      "metadata": {
        "id": "aa167o8E_IHb"
      },
      "execution_count": null,
      "outputs": []
    }
  ],
  "metadata": {
    "colab": {
      "provenance": []
    },
    "kernelspec": {
      "display_name": "Python 3",
      "name": "python3"
    },
    "language_info": {
      "name": "python"
    }
  },
  "nbformat": 4,
  "nbformat_minor": 0
}